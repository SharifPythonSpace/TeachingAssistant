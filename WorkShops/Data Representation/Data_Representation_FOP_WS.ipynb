{
  "nbformat": 4,
  "nbformat_minor": 0,
  "metadata": {
    "colab": {
      "provenance": []
    },
    "kernelspec": {
      "name": "python3",
      "display_name": "Python 3"
    },
    "language_info": {
      "name": "python"
    }
  },
  "cells": [
    {
      "cell_type": "markdown",
      "source": [
        "## Data Types\n",
        "- int\n",
        "- float\n",
        "- bool\n",
        "- str\n",
        "- list\n",
        "- tuple\n",
        "- set\n",
        "\n"
      ],
      "metadata": {
        "id": "Fi2VSx0229oe"
      }
    },
    {
      "cell_type": "code",
      "execution_count": null,
      "metadata": {
        "id": "hW8naKnJ2jv2"
      },
      "outputs": [],
      "source": [
        "print(type(238))\n",
        "print(type(214.123))\n",
        "print(type(True))\n",
        "print(type('hello, Python!'))\n",
        "print(type(238))\n",
        "print(type([1,2,3,4]))\n",
        "print(type((1,2,3)))\n",
        "print(type({1,2,3}))"
      ]
    },
    {
      "cell_type": "markdown",
      "source": [
        "## Address in Memory\n",
        "Using id() function, we can access the address of a variable in the main memory."
      ],
      "metadata": {
        "id": "Oo1eNftN4g6s"
      }
    },
    {
      "cell_type": "code",
      "source": [
        "a = 3400\n",
        "hex(id(a))"
      ],
      "metadata": {
        "id": "DE5-FDQa7je9"
      },
      "execution_count": null,
      "outputs": []
    },
    {
      "cell_type": "markdown",
      "source": [
        "## Number System\n",
        "- Decimal\n",
        "- Octal\n",
        "- Hex\n",
        "- Binary\n",
        "\n"
      ],
      "metadata": {
        "id": "SOxXXdIL7-9g"
      }
    },
    {
      "cell_type": "code",
      "source": [
        "a = 60\n",
        "print(f\"Decimal: \\t{a}\")\n",
        "print(f\"binary: \\t{str(bin(a))[2:]}\")\n",
        "print(f\"octal: \\t\\t{str(oct(a))[2:]}\")\n",
        "print(f\"hexadecimal: \\t{str(hex(a))[2:]}\")"
      ],
      "metadata": {
        "id": "AWhECavJ8GHo"
      },
      "execution_count": null,
      "outputs": []
    },
    {
      "cell_type": "code",
      "source": [
        "b = 0xCF\n",
        "print(f\"Hex: \\t\\t{str(hex(b))[2:]}\")\n",
        "print(f\"Decimal: \\t{int(b)}\")"
      ],
      "metadata": {
        "id": "0Ww3qNGDD8-E"
      },
      "execution_count": null,
      "outputs": []
    },
    {
      "cell_type": "markdown",
      "source": [
        "## Bitwise Operations\n",
        "| Operator|\tName|\tDescription|\n",
        "|:-------:|:--:|:-----|\n",
        "& |\tAND\t|Sets each bit to 1 if both bits are 1\n",
        "\\|\t| OR\t|Sets each bit to 1 if one of two bits is 1\n",
        " ^|\tXOR\t|Sets each bit to 1 if only one of two bits is 1\n",
        "~ |\tNOT|\tInverts all the bits\n",
        "<<|\tZero fill left shift |Shift left by pushing zeros in from the right and let the leftmost bits fall off\n",
        "\\>> |\tSigned right shift|Shift right by pushing copies of the leftmost bit in from the left, and let the rightmost bits fall off\n"
      ],
      "metadata": {
        "id": "ybY6wZx6Kg0M"
      }
    },
    {
      "cell_type": "code",
      "source": [
        "first = 0b1011011\n",
        "second = 0b1101101\n",
        "print(f'first:\\t{str(bin(first))[2:]}')\n",
        "print(f'second:\\t{str(bin(second))[2:]}')\n",
        "print(f'and:\\t{str(bin(first&second))[2:]}')\n",
        "print(f'or:\\t{str(bin(first|second))[2:]}')\n",
        "print(f'xor:\\t{str(bin(first^second))[2:]}')\n",
        "print(f'shiftl:\\t{str(bin(first<<1))[3:]}')\n",
        "print(f'shiftr:\\t1{str(bin(first>>1))[2:]}')"
      ],
      "metadata": {
        "id": "DN9Ig5KrUixz"
      },
      "execution_count": null,
      "outputs": []
    },
    {
      "cell_type": "code",
      "source": [
        "# shift = mul and div\n",
        "import time\n",
        "\n",
        "a = 3\n",
        "t1 = time.time_ns()\n",
        "for i in range(1000):\n",
        "  a <<= 2\n",
        "t2 = time.time_ns()\n",
        "print(t2-t1)\n",
        "\n",
        "a = 3\n",
        "t1 = time.time_ns()\n",
        "for i in range(1000):\n",
        "  a *= 4\n",
        "t2 = time.time_ns()\n",
        "print(t2-t1)"
      ],
      "metadata": {
        "id": "M1Wt2pIA-A9j"
      },
      "execution_count": null,
      "outputs": []
    },
    {
      "cell_type": "markdown",
      "source": [
        "## Two's Complement\n",
        "To calculate 2's complement of a number, first do bitwise not and then add one to the result."
      ],
      "metadata": {
        "id": "7FqYiR7xfAR8"
      }
    },
    {
      "cell_type": "code",
      "source": [
        "def twos_complement(num: int):\n",
        "  return ~num + 1"
      ],
      "metadata": {
        "id": "3oAEFTguIyJC"
      },
      "execution_count": null,
      "outputs": []
    },
    {
      "cell_type": "code",
      "source": [
        "print(twos_complement(10))"
      ],
      "metadata": {
        "id": "PRJy9KIceX6-"
      },
      "execution_count": null,
      "outputs": []
    },
    {
      "cell_type": "markdown",
      "source": [
        "## Floating Point\n",
        "How much is 0.1 + 0.2 ? :)"
      ],
      "metadata": {
        "id": "wq2V5kMissmp"
      }
    },
    {
      "cell_type": "code",
      "source": [
        "0.1 + 0.2"
      ],
      "metadata": {
        "id": "srPRSzKIstC4"
      },
      "execution_count": null,
      "outputs": []
    },
    {
      "cell_type": "code",
      "source": [
        "# Do not use floats to make decision\n",
        "age = 1.4\n",
        "age += 0.4\n",
        "print(age)\n",
        "if age >= 1.8:\n",
        "  print(\"Hooray! You are 18 now!\")\n",
        "else:\n",
        "  print(\"You're still a child :(\")"
      ],
      "metadata": {
        "id": "Fc90twPBauiF"
      },
      "execution_count": null,
      "outputs": []
    },
    {
      "cell_type": "markdown",
      "source": [
        "## Characters and Strings\n",
        "Each character is stored in one byte according to ASCII table."
      ],
      "metadata": {
        "id": "VaFIH7a9uJQi"
      }
    },
    {
      "cell_type": "code",
      "source": [
        "print(f\"'a':\\t{ord('a')}\\t{hex(ord('a'))}\")\n",
        "print(f\"'z':\\t{ord('z')}\\t{hex(ord('z'))}\")\n",
        "print(f\"space:\\t{ord(' ')}\\t{hex(ord(' '))}\")\n",
        "print(f\"'0':\\t{ord('1')}\\t{hex(ord('0'))}\")\n",
        "print(f\"'9':\\t{ord('9')}\\t{hex(ord('9'))}\")\n",
        "print(f\"'%':\\t{ord('%')}\\t{hex(ord('%'))}\")"
      ],
      "metadata": {
        "id": "2yViWociuWM0"
      },
      "execution_count": null,
      "outputs": []
    }
  ]
}